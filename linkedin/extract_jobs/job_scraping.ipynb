{
 "cells": [
  {
   "cell_type": "markdown",
   "id": "78612cde",
   "metadata": {},
   "source": [
    "## Individual Job Scraping"
   ]
  },
  {
   "cell_type": "markdown",
   "id": "bbeac3e9",
   "metadata": {},
   "source": [
    "### Limitations: It would scrape for maximum of 40 Pages and 25 Jobs for each page -- Total 999 Jobs\n",
    "##### Make Sure Your Search has less than those jobs"
   ]
  },
  {
   "cell_type": "code",
   "execution_count": 2,
   "id": "2cdeba5e",
   "metadata": {
    "scrolled": true
   },
   "outputs": [],
   "source": [
    "from job_scraping import LinkedInJobScraper"
   ]
  },
  {
   "cell_type": "code",
   "execution_count": 3,
   "id": "2db8689e",
   "metadata": {},
   "outputs": [],
   "source": [
    "### Provide the Filename to be saved on\n",
    "LinkedInJobScraper = LinkedInJobScraper(filename=\"jobs_run_test\")"
   ]
  },
  {
   "cell_type": "code",
   "execution_count": 6,
   "id": "95b24565",
   "metadata": {},
   "outputs": [],
   "source": [
    "#### The States and Locations for Reference\n",
    "# states     = [\n",
    "#             'Alabama', 'Alaska', 'Arizona', 'Arkansas', \n",
    "#             'California', 'Colorado', 'Connecticut', 'District of Columbia', \n",
    "#             'Delaware', 'Florida', 'Georgia', 'Hawaii', \n",
    "#             'Idaho', 'Illinois', 'Indiana', 'Iowa', 'Kansas', 'Kentucky', 'Louisiana', \n",
    "#             'Maine', 'Maryland', 'Massachusetts', 'Michigan', 'Minnesota', 'Mississippi', 'Missouri', 'Montana', \n",
    "#             'Nebraska', 'Nevada', 'New Hampshire', 'New Jersey', 'New Mexico', 'New York', 'North Carolina', 'North Dakota', \n",
    "#             'Ohio', 'Oklahoma', 'Oregon', 'Pennsylvania', 'Rhode Island', \n",
    "#             'South Carolina', 'South Dakota', 'Tennessee', 'Texas', \n",
    "#             'Utah', 'Vermont', 'Virginia', 'Washington', 'West Virginia', 'Wisconsin', 'Wyoming',\n",
    "#             'United States',\n",
    "#             'San Francisco Bay Area', 'Los Angeles Metropolitan Area'\n",
    "#             ] ## State list -->"
   ]
  },
  {
   "cell_type": "code",
   "execution_count": 4,
   "id": "34835f39",
   "metadata": {},
   "outputs": [],
   "source": [
    "### Job Title Dictionary - Titles and IDs\n",
    "job_title_dictionary = {\"Data Analyst\":\"340\",\"Senior Data Analyst\":\"2463\",\"Business Analyst\":\"29\",\n",
    "                        \"Senior Business Analyst\":\"194\",\"Product Manager\":\"27\",\"Senior Product Manager\":\"270\",\n",
    "                       \"Project Manager\":\"4\",\"Senior Project Manager\":\"77\",\"Data Engineer\":\"2732\",\n",
    "                       \"Data Scientist\":\"25190\",\"Senior Data Scientist\":\"25887\",\"Machine Learning\":\"25206\",\n",
    "                       \"Lead Data Scientist\":\"25885\",\"Data Science Manager\":\"30009\",\"Analytics Specialist\":\"30209\",\n",
    "                       \"Data Associate\":\"7443\",\"Business Intelligence Developer\":\"3282\",\n",
    "                        \"Business Intelligence Analyst\":\"2336\"}"
   ]
  },
  {
   "cell_type": "markdown",
   "id": "b7d47bb5",
   "metadata": {},
   "source": [
    "Input parameters:\n",
    "1. keywords             -  Provide the job word in a string format \n",
    "2. job_title_dictionary -  URLs Titles and IDs Dictionary to target specific job titles\n",
    "3. job_list             -  List of the Jobs, Refer to the List of Jobs Provided\n",
    "</Br> Note: You can either provide the KeyWord Search or Particular Job Title Search \n",
    "</Br> If you're particular job title isn't listed above in the dictionar, you might need to identify the respective id from the URL. (You know how to do it*) - Only for particular job title search not required for keyword based search\n",
    "4. job_location         -  Provide the target job location, default United States\n",
    "5. job_period           -  Provide the time period you want for, default weekly\n",
    "6. geo_id               -  Provide the geo id if you want specific location\n",
    "7. experience           -  Entry, Associate, Mid-Senior, Director Default code searches for all the jobs\n",
    "8. Workplace Type       -  Workplace Type is for \"Remote\", \"On-site\", Default the code searches for both"
   ]
  },
  {
   "cell_type": "code",
   "execution_count": 8,
   "id": "7dcb3a62",
   "metadata": {},
   "outputs": [],
   "source": [
    "## Check the URL before proceeding\n",
    "url=LinkedInJobScraper.url_gen(job_title_dictionary=job_title_dictionary, \n",
    "                 keywords=None, \n",
    "                 job_list=['Product Manager','Senior Product Manager'], \n",
    "                 job_location='California', \n",
    "                 job_period=\"&f_TPR=r604800\", \n",
    "                 geo_id=None, \n",
    "                 experience_level=None,\n",
    "                 workplace_type=None\n",
    "                )"
   ]
  },
  {
   "cell_type": "code",
   "execution_count": 10,
   "id": "6624d275",
   "metadata": {},
   "outputs": [
    {
     "data": {
      "text/plain": [
       "'https://www.linkedin.com/jobs/search/?f_JT=F&f_T=27&f_TPR=r604800&location=California'"
      ]
     },
     "execution_count": 10,
     "metadata": {},
     "output_type": "execute_result"
    }
   ],
   "source": [
    "## Check the URL before proceeding if its providing the job-titles you're looking for\n",
    "url"
   ]
  },
  {
   "cell_type": "markdown",
   "id": "53df4fd3",
   "metadata": {},
   "source": [
    "## Don't use your personal account for the Scraping"
   ]
  },
  {
   "cell_type": "code",
   "execution_count": 11,
   "id": "1270bb87",
   "metadata": {},
   "outputs": [],
   "source": [
    "### Create a Fake Account for the Job Search\n",
    "user_username=\"\"\n",
    "user_password=\"\""
   ]
  },
  {
   "cell_type": "code",
   "execution_count": 12,
   "id": "a070ee55",
   "metadata": {},
   "outputs": [],
   "source": [
    "driver=LinkedInJobScraper.driver_launcher(username=user_username,password=user_password)"
   ]
  },
  {
   "cell_type": "code",
   "execution_count": 14,
   "id": "6cf8b195",
   "metadata": {},
   "outputs": [],
   "source": [
    "df=LinkedInJobScraper.scrape_jobs(driver,url)"
   ]
  },
  {
   "cell_type": "code",
   "execution_count": null,
   "id": "0f168e86",
   "metadata": {},
   "outputs": [],
   "source": []
  }
 ],
 "metadata": {
  "kernelspec": {
   "display_name": "Python 3 (ipykernel)",
   "language": "python",
   "name": "python3"
  },
  "language_info": {
   "codemirror_mode": {
    "name": "ipython",
    "version": 3
   },
   "file_extension": ".py",
   "mimetype": "text/x-python",
   "name": "python",
   "nbconvert_exporter": "python",
   "pygments_lexer": "ipython3",
   "version": "3.9.12"
  }
 },
 "nbformat": 4,
 "nbformat_minor": 5
}
